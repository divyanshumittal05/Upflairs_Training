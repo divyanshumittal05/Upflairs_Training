{
 "cells": [
  {
   "cell_type": "code",
   "execution_count": 2,
   "metadata": {},
   "outputs": [],
   "source": [
    "import pandas as pd \n",
    "import numpy as np \n",
    "import matplotlib.pyplot as plt \n",
    "import seaborn as sns \n",
    "import sklearn as skl\n",
    "import tkinter as tk \n",
    "import warnings \n",
    "warnings.filterwarnings('ignore')"
   ]
  },
  {
   "cell_type": "code",
   "execution_count": 6,
   "metadata": {},
   "outputs": [],
   "source": [
    "m = pd.read_pickle('HeartRatePridiction')\n",
    "\n",
    "app = tk.Tk()\n",
    "app.geometry('450x300')\n",
    "app.title('Heart Attack Predictor')\n",
    "\n",
    "#Background--->\n",
    "bg = tk.PhotoImage(file='bg.png')\n",
    "bg = bg.subsample(2)\n",
    "\n",
    "canvas = tk.Canvas(app,width=450,height=300)\n",
    "canvas.pack(fill='both',expand=True)\n",
    "canvas.create_image(0,0,image=bg,anchor='nw')\n",
    "canvas.create_text(320,10,text='Heart Attack Predictor')\n",
    "\n",
    "def Predict():\n",
    "    age = eval(Entry_age.get())\n",
    "    slp = eval(Entry_slp.get())\n",
    "    thalachh = eval(Entry_thalachh.get())\n",
    "    o2 = eval(Entry_o2.get())\n",
    "    cp = eval(Entry_cp.get())\n",
    "    Predication = pd.DataFrame({'Age':[age],'SLP':[slp],'Thalachh':[thalachh],'O2':[o2],'cp':[cp]})\n",
    "    result.set(round(m.predict(Predication)[0],2))\n",
    "\n",
    "age = canvas.create_text(100,60,anchor='nw',text='Enter Your Age')\n",
    "slp = canvas.create_text(100,80,anchor='nw',text='Enter SLP')\n",
    "thalachh = canvas.create_text(100,100,anchor='nw',text='Enter Thalachh')\n",
    "o2 = canvas.create_text(100,120,anchor='nw',text='Enter O2 Saturation')\n",
    "cp = canvas.create_text(100,140,anchor='nw',text='Enter CP')\n",
    "\n",
    "\n",
    "Entry_age = tk.Variable(app)\n",
    "tk.Entry(app,textvariable=Entry_age).place(x=260,y=60,height=20)\n",
    "\n",
    "Entry_slp = tk.Variable(app)\n",
    "tk.Entry(app,textvariable=Entry_slp).place(x=260,y=80,height=20)\n",
    "\n",
    "Entry_thalachh = tk.Variable(app)\n",
    "tk.Entry(app,textvariable=Entry_thalachh).place(x=260,y=100,height=20)\n",
    "\n",
    "Entry_o2 = tk.Variable(app)\n",
    "tk.Entry(app,textvariable=Entry_o2).place(x=260,y=120,height=20)\n",
    "\n",
    "Entry_cp = tk.Variable(app)\n",
    "tk.Entry(app,textvariable=Entry_cp).place(x=260,y=140,height=20)\n",
    "\n",
    "tk.Button(app,text='Predict',command=Predict,bg='light yellow').place(x=260,y=220,height=20)\n",
    "\n",
    "Predicted_Health = tk.Variable(app)\n",
    "Predicted_Health.set('Predicted Health')\n",
    "tk.Label(app,textvariable=Predicted_Health).place(x=100,y=250)\n",
    "\n",
    "result = tk.Variable(app)\n",
    "result.set('')\n",
    "tk.Entry(app,textvariable=result).place(x=260,y=257,height=20)\n",
    "\n",
    "\n",
    "app.mainloop()"
   ]
  },
  {
   "cell_type": "code",
   "execution_count": null,
   "metadata": {},
   "outputs": [],
   "source": []
  },
  {
   "cell_type": "code",
   "execution_count": null,
   "metadata": {},
   "outputs": [],
   "source": []
  }
 ],
 "metadata": {
  "interpreter": {
   "hash": "686f372cfa9fca3158af1cb236269f9be773e56934179203fa072774a55f0176"
  },
  "kernelspec": {
   "display_name": "Python 3 (ipykernel)",
   "language": "python",
   "name": "python3"
  },
  "language_info": {
   "codemirror_mode": {
    "name": "ipython",
    "version": 3
   },
   "file_extension": ".py",
   "mimetype": "text/x-python",
   "name": "python",
   "nbconvert_exporter": "python",
   "pygments_lexer": "ipython3",
   "version": "3.9.7"
  }
 },
 "nbformat": 4,
 "nbformat_minor": 4
}
